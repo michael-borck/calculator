{
  "nbformat": 4,
  "nbformat_minor": 0,
  "metadata": {
    "colab": {
      "name": "calculator.ipynb",
      "provenance": [],
      "authorship_tag": "ABX9TyN9ls3OneZFw2kheIhg5jy+",
      "include_colab_link": true
    },
    "kernelspec": {
      "name": "python3",
      "display_name": "Python 3"
    },
    "language_info": {
      "name": "python"
    }
  },
  "cells": [
    {
      "cell_type": "markdown",
      "metadata": {
        "id": "view-in-github",
        "colab_type": "text"
      },
      "source": [
        "<a href=\"https://colab.research.google.com/github/michael-borck/calculator/blob/main/calculator.ipynb\" target=\"_parent\"><img src=\"https://colab.research.google.com/assets/colab-badge.svg\" alt=\"Open In Colab\"/></a>"
      ]
    },
    {
      "cell_type": "markdown",
      "source": [
        "# Simple Calculator\n"
      ],
      "metadata": {
        "id": "hyaftXj0tKob"
      }
    },
    {
      "cell_type": "code",
      "source": [
        "#@title\n",
        "import os\n",
        "\n",
        "if not os.path.isfile('main.ipynb'):\n",
        "  !wget https://raw.githubusercontent.com/michael-borck/calculator/main/main.ipynb > /dev/null 2>&1\n",
        "\n",
        "%run main.ipynb"
      ],
      "metadata": {
        "cellView": "form",
        "id": "nM0uoeA-Vmjn"
      },
      "execution_count": null,
      "outputs": []
    }
  ]
}
