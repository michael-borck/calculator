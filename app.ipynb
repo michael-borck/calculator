{
  "nbformat": 4,
  "nbformat_minor": 0,
  "metadata": {
    "colab": {
      "name": "app.ipynb",
      "provenance": [],
      "authorship_tag": "ABX9TyP2FMU5O5J5knUjDlbmc19z",
      "include_colab_link": true
    },
    "kernelspec": {
      "name": "python3",
      "display_name": "Python 3"
    },
    "language_info": {
      "name": "python"
    }
  },
  "cells": [
    {
      "cell_type": "markdown",
      "metadata": {
        "id": "view-in-github",
        "colab_type": "text"
      },
      "source": [
        "<a href=\"https://colab.research.google.com/github/michael-borck/calculator/blob/main/app.ipynb\" target=\"_parent\"><img src=\"https://colab.research.google.com/assets/colab-badge.svg\" alt=\"Open In Colab\"/></a>"
      ]
    },
    {
      "cell_type": "markdown",
      "source": [
        "# Simple Calculator"
      ],
      "metadata": {
        "id": "q619OsgX5mIN"
      }
    },
    {
      "cell_type": "code",
      "source": [
        "#@title\n",
        "import os\n",
        "\n",
        "if not os.path.isfile('calculator.ipynb'):\n",
        "  !wget https://raw.githubusercontent.com/michael-borck/calculator/main/calculator.ipynb > /dev/null 2>&1\n",
        "\n",
        "%run calculator.ipynb"
      ],
      "metadata": {
        "id": "nM0uoeA-Vmjn",
        "cellView": "form"
      },
      "execution_count": null,
      "outputs": []
    }
  ]
}